{
 "cells": [
  {
   "cell_type": "markdown",
   "metadata": {},
   "source": [
    "**Общая информация**\n",
    "\n",
    "**Срок сдачи:** 18 октября 2017, 06:00 <br\\>\n",
    "**Штраф за опоздание:** -2 балла после 06:00 18 октября, -4 балла после 06:00 25 октября, -6 баллов после 06:00 1 ноября\n",
    "\n",
    "При отправлении ДЗ указывайте фамилию в названии файла\n",
    "Присылать ДЗ необходимо в виде ссылки на свой github репозиторий в slack @alkhamush\n",
    "\n",
    "Необходимо в slack создать таск в приватный чат:\n",
    "/todo Фамилия Имя ссылка на гитхаб @alkhamush\n",
    "Пример:\n",
    "/todo Ксения Стройкова https://github.com/stroykova/spheremailru/stroykova_hw1.ipynb @alkhamush\n",
    "Дополнительно нужно просто скинуть ссылку в slack в личный чат\n",
    "\n",
    "Используйте данный Ipython Notebook при оформлении домашнего задания."
   ]
  },
  {
   "cell_type": "markdown",
   "metadata": {},
   "source": [
    "###### Задание 1 (2 баллов)\n",
    "Реализовать KNN в классе MyKNeighborsClassifier (обязательное условие: точность не ниже sklearn реализации)\n",
    "Разберитесь самостоятельно, какая мера расстояния используется в KNeighborsClassifier дефолтно и реализуйте свой алгоритм именно с этой мерой. Самостоятельно разберитесь, как считается score из KNeighborsClassifier и реализуйте аналог в своём классе. Score не должен уступать значению KNN из sklearn\n",
    "\n",
    "###### Задание 2 (2 балла)\n",
    "Добиться скорости работы на fit,  predict и predict_proba сравнимой со sklearn для iris и mnist\n",
    "Для этого используем numpy\n",
    "\n",
    "###### Задание 3 (2 балла)\n",
    "Для iris найдите такой параметр n_neighbors, при котором выдаётся наилучший score. Нарисуйте график зависимости score от n_neighbors\n",
    "\n",
    "###### Задание 4 (3 балла)\n",
    "Добавить algorithm='kd_tree' в реализацию KNN (использовать KDTree из sklearn.neighbors). Значение n_neighbors нужно взять из задания 3. Добиться скорости работы на fit,  predict и predict_proba сравнимой со sklearn для iris и mnist\n",
    "Для этого используем numpy. Score не должен уступать значению KNN из sklearn\n",
    "\n",
    "###### Задание 5 (1 балла)\n",
    "Описать для чего нужны следующие библиотеки/классы/функции (список будет ниже)\n",
    "\n",
    "**Штрафные баллы:**\n",
    "\n",
    "1. Невыполнение PEP8 -1 балл\n",
    "2. Отсутствие фамилии в имени скрипта (скрипт должен называться по аналогии со stroykova_hw1.ipynb) -1 балл\n",
    "3. Все строчки должны быть выполнены. Нужно, чтобы output команды можно было увидеть уже в git'е. В противном случае -1 балл\n",
    "4. При оформлении ДЗ нужно пользоваться данным файлом в качестве шаблона. Не нужно удалять и видоизменять структуру кода и текст. В противном случае -1 балл\n"
   ]
  },
  {
   "cell_type": "code",
   "execution_count": 146,
   "metadata": {
    "scrolled": false
   },
   "outputs": [
    {
     "name": "stdout",
     "output_type": "stream",
     "text": [
      "The pycodestyle_magic extension is already loaded. To reload it, use:\n",
      "  %reload_ext pycodestyle_magic\n"
     ]
    }
   ],
   "source": [
    "import numpy as np\n",
    "import matplotlib.pyplot as plt\n",
    "\n",
    "import seaborn as sns\n",
    "from sklearn import metrics\n",
    "from sklearn import datasets\n",
    "from sklearn.neighbors import KDTree\n",
    "from sklearn.base import ClassifierMixin\n",
    "from sklearn.datasets import fetch_mldata\n",
    "from sklearn.neighbors.base import NeighborsBase, KNeighborsMixin, SupervisedIntegerMixin \n",
    "from sklearn.model_selection import train_test_split\n",
    "from sklearn.neighbors import KNeighborsClassifier\n",
    "%load_ext pycodestyle_magic"
   ]
  },
  {
   "cell_type": "code",
   "execution_count": 147,
   "metadata": {},
   "outputs": [],
   "source": [
    "%%pycodestyle\n",
    "\n",
    "\n",
    "class MyKNeighborsClassifier(\n",
    "    NeighborsBase,\n",
    "    KNeighborsMixin,\n",
    "    SupervisedIntegerMixin,\n",
    "    ClassifierMixin\n",
    "):\n",
    "\n",
    "    def __init__(self, n_neighbors, algorithm='brute'):\n",
    "        self.n_neighbors = n_neighbors\n",
    "        self.algorithm = algorithm\n",
    "\n",
    "    def fit(self, X, y):\n",
    "        self.train_x = np.array(X)\n",
    "        self.train_y = np.array(y).astype(int)\n",
    "        self.number_of_classes = np.unique(self.train_y).shape[0]\n",
    "        if self.algorithm == 'kd_tree':\n",
    "            self.tree = KDTree(self.train_x)\n",
    "\n",
    "    def predict(self, X):\n",
    "        if self.algorithm == 'kd_tree':\n",
    "            (_, neighbors) = self.tree.query(X, self.n_neighbors)\n",
    "            return np.apply_along_axis(\n",
    "                lambda x: np.bincount(x).argmax(),\n",
    "                1,\n",
    "                self.train_y[neighbors].astype(int))\n",
    "        else:\n",
    "            distances = metrics.pairwise_distances(X.astype(float),\n",
    "                                                   self.train_x)\n",
    "            indexes = distances.argpartition(\n",
    "                self.n_neighbors)[:, :self.n_neighbors]\n",
    "            return np.apply_along_axis(\n",
    "                lambda x: np.bincount(x).argmax(),\n",
    "                1,\n",
    "                self.train_y[indexes].astype(int))\n",
    "\n",
    "    def predict_proba(self, X):\n",
    "        if self.algorithm == 'kd_tree':\n",
    "            (_, neighbors) = self.tree.query(X, self.n_neighbors)\n",
    "            return np.apply_along_axis(\n",
    "                lambda x: np.bincount(\n",
    "                    x,\n",
    "                    minlength=self.number_of_classes) / self.n_neighbors,\n",
    "                1,\n",
    "                self.train_y[neighbors].astype(int))\n",
    "        else:\n",
    "            distances = metrics.pairwise_distances(X.astype(float),\n",
    "                                                   self.train_x)\n",
    "            indexes = distances.argpartition(\n",
    "                self.n_neighbors)[:, :self.n_neighbors]\n",
    "            return np.apply_along_axis(\n",
    "                lambda x: np.bincount(\n",
    "                    x,\n",
    "                    minlength=self.number_of_classes) / self.n_neighbors,\n",
    "                1,\n",
    "                self.train_y[indexes].astype(int))\n",
    "\n",
    "    def score(self, X, y):\n",
    "        return (self.predict(X) == y).mean()"
   ]
  },
  {
   "cell_type": "markdown",
   "metadata": {},
   "source": [
    "**IRIS**"
   ]
  },
  {
   "cell_type": "code",
   "execution_count": 148,
   "metadata": {},
   "outputs": [],
   "source": [
    "iris = datasets.load_iris()"
   ]
  },
  {
   "cell_type": "code",
   "execution_count": 149,
   "metadata": {},
   "outputs": [],
   "source": [
    "X_train, X_test, y_train, y_test = train_test_split(iris.data, iris.target, test_size=0.1, stratify=iris.target)"
   ]
  },
  {
   "cell_type": "code",
   "execution_count": 150,
   "metadata": {},
   "outputs": [],
   "source": [
    "clf = KNeighborsClassifier(n_neighbors=2)\n",
    "my_clf = MyKNeighborsClassifier(n_neighbors=2)"
   ]
  },
  {
   "cell_type": "code",
   "execution_count": 151,
   "metadata": {},
   "outputs": [
    {
     "name": "stdout",
     "output_type": "stream",
     "text": [
      "CPU times: user 4.04 ms, sys: 21 µs, total: 4.06 ms\n",
      "Wall time: 2.47 ms\n"
     ]
    },
    {
     "data": {
      "text/plain": [
       "KNeighborsClassifier(algorithm='auto', leaf_size=30, metric='minkowski',\n",
       "           metric_params=None, n_jobs=1, n_neighbors=2, p=2,\n",
       "           weights='uniform')"
      ]
     },
     "execution_count": 151,
     "metadata": {},
     "output_type": "execute_result"
    }
   ],
   "source": [
    "%time clf.fit(X_train, y_train)"
   ]
  },
  {
   "cell_type": "code",
   "execution_count": 152,
   "metadata": {},
   "outputs": [
    {
     "name": "stdout",
     "output_type": "stream",
     "text": [
      "CPU times: user 655 µs, sys: 3 µs, total: 658 µs\n",
      "Wall time: 420 µs\n"
     ]
    }
   ],
   "source": [
    "%time my_clf.fit(X_train, y_train)"
   ]
  },
  {
   "cell_type": "code",
   "execution_count": 153,
   "metadata": {},
   "outputs": [
    {
     "name": "stdout",
     "output_type": "stream",
     "text": [
      "CPU times: user 3.58 ms, sys: 0 ns, total: 3.58 ms\n",
      "Wall time: 2.66 ms\n"
     ]
    },
    {
     "data": {
      "text/plain": [
       "array([2, 1, 1, 1, 0, 2, 2, 2, 1, 0, 0, 0, 2, 2, 0])"
      ]
     },
     "execution_count": 153,
     "metadata": {},
     "output_type": "execute_result"
    }
   ],
   "source": [
    "%time clf.predict(X_test)"
   ]
  },
  {
   "cell_type": "code",
   "execution_count": 154,
   "metadata": {},
   "outputs": [
    {
     "name": "stdout",
     "output_type": "stream",
     "text": [
      "CPU times: user 5.59 ms, sys: 8 µs, total: 5.6 ms\n",
      "Wall time: 3.21 ms\n"
     ]
    },
    {
     "data": {
      "text/plain": [
       "array([2, 1, 1, 1, 0, 2, 2, 2, 1, 0, 0, 0, 2, 2, 0])"
      ]
     },
     "execution_count": 154,
     "metadata": {},
     "output_type": "execute_result"
    }
   ],
   "source": [
    "%time my_clf.predict(X_test)"
   ]
  },
  {
   "cell_type": "code",
   "execution_count": 155,
   "metadata": {},
   "outputs": [
    {
     "name": "stdout",
     "output_type": "stream",
     "text": [
      "CPU times: user 4.39 ms, sys: 23 µs, total: 4.41 ms\n",
      "Wall time: 2.76 ms\n"
     ]
    },
    {
     "data": {
      "text/plain": [
       "array([[0., 0., 1.],\n",
       "       [0., 1., 0.],\n",
       "       [0., 1., 0.],\n",
       "       [0., 1., 0.],\n",
       "       [1., 0., 0.],\n",
       "       [0., 0., 1.],\n",
       "       [0., 0., 1.],\n",
       "       [0., 0., 1.],\n",
       "       [0., 1., 0.],\n",
       "       [1., 0., 0.],\n",
       "       [1., 0., 0.],\n",
       "       [1., 0., 0.],\n",
       "       [0., 0., 1.],\n",
       "       [0., 0., 1.],\n",
       "       [1., 0., 0.]])"
      ]
     },
     "execution_count": 155,
     "metadata": {},
     "output_type": "execute_result"
    }
   ],
   "source": [
    "%time clf.predict_proba(X_test)"
   ]
  },
  {
   "cell_type": "code",
   "execution_count": 156,
   "metadata": {},
   "outputs": [
    {
     "name": "stdout",
     "output_type": "stream",
     "text": [
      "CPU times: user 1.83 ms, sys: 0 ns, total: 1.83 ms\n",
      "Wall time: 1.14 ms\n"
     ]
    },
    {
     "data": {
      "text/plain": [
       "array([[0., 0., 1.],\n",
       "       [0., 1., 0.],\n",
       "       [0., 1., 0.],\n",
       "       [0., 1., 0.],\n",
       "       [1., 0., 0.],\n",
       "       [0., 0., 1.],\n",
       "       [0., 0., 1.],\n",
       "       [0., 0., 1.],\n",
       "       [0., 1., 0.],\n",
       "       [1., 0., 0.],\n",
       "       [1., 0., 0.],\n",
       "       [1., 0., 0.],\n",
       "       [0., 0., 1.],\n",
       "       [0., 0., 1.],\n",
       "       [1., 0., 0.]])"
      ]
     },
     "execution_count": 156,
     "metadata": {},
     "output_type": "execute_result"
    }
   ],
   "source": [
    "%time my_clf.predict_proba(X_test)"
   ]
  },
  {
   "cell_type": "code",
   "execution_count": 157,
   "metadata": {},
   "outputs": [
    {
     "data": {
      "text/plain": [
       "0.9333333333333333"
      ]
     },
     "execution_count": 157,
     "metadata": {},
     "output_type": "execute_result"
    }
   ],
   "source": [
    "clf.score(X_test, y_test)"
   ]
  },
  {
   "cell_type": "code",
   "execution_count": 158,
   "metadata": {},
   "outputs": [
    {
     "data": {
      "text/plain": [
       "0.9333333333333333"
      ]
     },
     "execution_count": 158,
     "metadata": {},
     "output_type": "execute_result"
    }
   ],
   "source": [
    "my_clf.score(X_test, y_test)"
   ]
  },
  {
   "cell_type": "markdown",
   "metadata": {},
   "source": [
    "Задание 3"
   ]
  },
  {
   "cell_type": "code",
   "execution_count": 159,
   "metadata": {},
   "outputs": [
    {
     "name": "stdout",
     "output_type": "stream",
     "text": [
      "Best score = {0} with numbers of n_neighbors= {1} 0.9780000000000001 15\n"
     ]
    },
    {
     "data": {
      "image/png": "[encoded data removed]",
      "text/plain": [
       "<Figure size 432x288 with 1 Axes>"
      ]
     },
     "metadata": {},
     "output_type": "display_data"
    }
   ],
   "source": [
    "max_neighbors = 50\n",
    "number_of_tests = 100\n",
    "results = []\n",
    "for i in range(1, max_neighbors + 1):\n",
    "    tests_results = []\n",
    "    for j in range(number_of_tests):\n",
    "        X_train, X_test, y_train, y_test = \\\n",
    "            train_test_split(iris.data, iris.target,\n",
    "                             test_size=0.1, stratify=iris.target)\n",
    "        my_clf = MyKNeighborsClassifier(n_neighbors=i)\n",
    "        my_clf.fit(X_train, y_train)\n",
    "        tests_results += [my_clf.score(X_test, y_test)]\n",
    "    results += [np.mean(tests_results)]\n",
    "print(\"Best score = {0} with numbers of n_neighbors= {1}\",\n",
    "    max(results), np.argmax(results) + 1)\n",
    "plt.plot(range(1, max_neighbors + 1), results)\n",
    "plt.xlabel('n_neighbors')\n",
    "plt.ylabel('score')\n",
    "plt.show()"
   ]
  },
  {
   "cell_type": "markdown",
   "metadata": {},
   "source": [
    "**MNIST**"
   ]
  },
  {
   "cell_type": "code",
   "execution_count": 160,
   "metadata": {
    "scrolled": false
   },
   "outputs": [],
   "source": [
    "mnist = fetch_mldata('MNIST original')"
   ]
  },
  {
   "cell_type": "code",
   "execution_count": 161,
   "metadata": {},
   "outputs": [],
   "source": [
    "X_train, X_test, y_train, y_test = train_test_split(mnist.data, mnist.target, test_size=0.01, stratify=mnist.target)"
   ]
  },
  {
   "cell_type": "code",
   "execution_count": 162,
   "metadata": {},
   "outputs": [],
   "source": [
    "clf = KNeighborsClassifier(n_neighbors=2)\n",
    "my_clf = MyKNeighborsClassifier(n_neighbors=2)"
   ]
  },
  {
   "cell_type": "code",
   "execution_count": 163,
   "metadata": {},
   "outputs": [
    {
     "name": "stdout",
     "output_type": "stream",
     "text": [
      "CPU times: user 31.2 s, sys: 164 ms, total: 31.4 s\n",
      "Wall time: 31.3 s\n"
     ]
    },
    {
     "data": {
      "text/plain": [
       "KNeighborsClassifier(algorithm='auto', leaf_size=30, metric='minkowski',\n",
       "           metric_params=None, n_jobs=1, n_neighbors=2, p=2,\n",
       "           weights='uniform')"
      ]
     },
     "execution_count": 163,
     "metadata": {},
     "output_type": "execute_result"
    }
   ],
   "source": [
    "%time clf.fit(X_train, y_train)"
   ]
  },
  {
   "cell_type": "code",
   "execution_count": 164,
   "metadata": {},
   "outputs": [
    {
     "name": "stdout",
     "output_type": "stream",
     "text": [
      "CPU times: user 15.6 ms, sys: 28.1 ms, total: 43.7 ms\n",
      "Wall time: 10.6 ms\n"
     ]
    }
   ],
   "source": [
    "%time my_clf.fit(X_train, y_train)"
   ]
  },
  {
   "cell_type": "code",
   "execution_count": 165,
   "metadata": {},
   "outputs": [
    {
     "name": "stdout",
     "output_type": "stream",
     "text": [
      "CPU times: user 1min 39s, sys: 7.73 ms, total: 1min 39s\n",
      "Wall time: 1min 38s\n"
     ]
    },
    {
     "data": {
      "text/plain": [
       "array([4., 8., 1., 4., 8., 0., 7., 2., 3., 5., 7., 7., 2., 0., 6., 0., 1.,\n",
       "       9., 0., 6., 2., 3., 0., 4., 8., 6., 6., 6., 1., 8., 1., 7., 0., 1.,\n",
       "       6., 9., 0., 2., 2., 2., 8., 4., 7., 0., 7., 3., 3., 1., 9., 1., 7.,\n",
       "       7., 4., 5., 6., 1., 0., 1., 6., 1., 0., 5., 8., 2., 1., 1., 8., 2.,\n",
       "       4., 9., 3., 5., 1., 6., 6., 2., 4., 1., 0., 4., 1., 8., 1., 0., 1.,\n",
       "       0., 7., 4., 8., 5., 6., 8., 1., 1., 3., 5., 3., 1., 0., 5., 8., 7.,\n",
       "       1., 3., 9., 3., 2., 2., 9., 9., 5., 4., 9., 2., 6., 3., 6., 5., 3.,\n",
       "       0., 2., 5., 8., 9., 3., 5., 9., 9., 4., 3., 6., 6., 8., 3., 4., 3.,\n",
       "       3., 2., 3., 6., 5., 9., 2., 2., 2., 8., 4., 0., 7., 3., 0., 1., 7.,\n",
       "       4., 5., 1., 7., 9., 0., 9., 6., 8., 3., 3., 8., 9., 7., 7., 1., 3.,\n",
       "       2., 6., 9., 7., 4., 7., 1., 7., 8., 5., 1., 4., 5., 9., 4., 4., 9.,\n",
       "       0., 2., 5., 1., 6., 5., 2., 7., 4., 3., 9., 7., 7., 7., 3., 1., 5.,\n",
       "       0., 8., 6., 4., 4., 6., 0., 0., 1., 3., 4., 3., 4., 2., 9., 5., 1.,\n",
       "       1., 0., 6., 8., 1., 3., 6., 2., 9., 7., 8., 7., 6., 3., 1., 3., 1.,\n",
       "       5., 9., 5., 3., 7., 8., 7., 8., 5., 6., 3., 5., 9., 6., 7., 0., 5.,\n",
       "       3., 1., 3., 1., 6., 3., 5., 8., 4., 8., 0., 4., 7., 9., 2., 5., 0.,\n",
       "       2., 4., 1., 7., 7., 0., 4., 9., 0., 0., 3., 0., 2., 9., 1., 2., 6.,\n",
       "       4., 6., 6., 4., 4., 3., 9., 4., 9., 4., 3., 7., 0., 2., 9., 7., 7.,\n",
       "       2., 7., 6., 0., 5., 0., 5., 5., 3., 1., 9., 9., 1., 1., 3., 4., 9.,\n",
       "       9., 0., 4., 7., 1., 8., 1., 8., 8., 2., 9., 9., 2., 5., 9., 3., 9.,\n",
       "       0., 2., 1., 5., 2., 1., 6., 2., 1., 7., 1., 5., 4., 8., 9., 6., 5.,\n",
       "       1., 4., 8., 8., 3., 9., 1., 8., 0., 4., 1., 2., 7., 0., 2., 0., 3.,\n",
       "       2., 1., 1., 6., 9., 7., 6., 8., 7., 9., 8., 5., 8., 4., 9., 3., 6.,\n",
       "       6., 0., 8., 0., 1., 3., 6., 1., 6., 0., 0., 4., 4., 0., 2., 0., 0.,\n",
       "       4., 3., 0., 0., 7., 1., 4., 7., 4., 2., 0., 6., 5., 4., 5., 8., 7.,\n",
       "       0., 3., 1., 9., 2., 4., 3., 6., 1., 7., 3., 1., 2., 4., 7., 9., 6.,\n",
       "       0., 2., 8., 4., 7., 4., 6., 7., 1., 9., 6., 4., 8., 4., 1., 2., 7.,\n",
       "       7., 1., 1., 5., 2., 1., 3., 8., 2., 4., 9., 3., 1., 9., 4., 0., 6.,\n",
       "       3., 4., 2., 9., 2., 3., 2., 9., 8., 1., 7., 5., 0., 0., 7., 6., 9.,\n",
       "       4., 3., 5., 0., 3., 0., 7., 2., 5., 3., 8., 9., 7., 2., 8., 8., 6.,\n",
       "       3., 4., 8., 5., 8., 9., 4., 5., 6., 7., 6., 5., 9., 7., 7., 9., 7.,\n",
       "       5., 2., 5., 4., 8., 3., 3., 5., 3., 7., 0., 8., 0., 9., 7., 5., 2.,\n",
       "       2., 4., 8., 9., 6., 6., 1., 3., 1., 6., 4., 0., 0., 4., 5., 7., 6.,\n",
       "       3., 1., 7., 8., 9., 3., 8., 4., 7., 5., 2., 3., 6., 2., 9., 9., 2.,\n",
       "       7., 5., 2., 0., 1., 3., 0., 6., 6., 7., 1., 9., 8., 7., 3., 3., 1.,\n",
       "       3., 7., 8., 7., 6., 3., 6., 7., 8., 4., 6., 4., 5., 5., 9., 9., 1.,\n",
       "       5., 0., 1., 7., 1., 2., 0., 2., 6., 6., 0., 9., 8., 6., 1., 6., 1.,\n",
       "       3., 8., 3., 6., 9., 2., 5., 3., 8., 5., 1., 0., 0., 7., 3., 0., 8.,\n",
       "       9., 2., 2., 3., 0., 0., 7., 4., 8., 3., 8., 7., 3., 0., 1., 7., 2.,\n",
       "       1., 8., 9., 2., 5., 3., 6., 9., 3., 9., 5., 2., 2., 3., 8., 1., 9.,\n",
       "       1., 5., 9., 4., 4., 2., 7., 1., 4., 2., 7., 3., 4., 4., 2., 6., 0.,\n",
       "       8., 2., 6.])"
      ]
     },
     "execution_count": 165,
     "metadata": {},
     "output_type": "execute_result"
    }
   ],
   "source": [
    "%time clf.predict(X_test)"
   ]
  },
  {
   "cell_type": "code",
   "execution_count": 166,
   "metadata": {},
   "outputs": [
    {
     "name": "stdout",
     "output_type": "stream",
     "text": [
      "CPU times: user 6.12 s, sys: 536 ms, total: 6.65 s\n",
      "Wall time: 2.42 s\n"
     ]
    },
    {
     "data": {
      "text/plain": [
       "array([4, 8, 1, 4, 8, 0, 7, 2, 3, 5, 7, 7, 2, 0, 6, 0, 1, 9, 0, 6, 2, 3,\n",
       "       0, 4, 8, 6, 6, 6, 1, 8, 1, 7, 0, 1, 6, 9, 0, 2, 2, 2, 8, 4, 7, 0,\n",
       "       7, 3, 3, 1, 9, 1, 7, 7, 4, 5, 6, 1, 0, 1, 6, 1, 0, 5, 8, 2, 1, 1,\n",
       "       8, 2, 4, 9, 3, 5, 1, 6, 6, 2, 4, 1, 0, 4, 1, 8, 1, 0, 1, 0, 7, 4,\n",
       "       8, 5, 6, 8, 1, 1, 3, 5, 3, 1, 0, 5, 8, 7, 1, 3, 9, 3, 2, 2, 9, 9,\n",
       "       5, 4, 9, 2, 6, 3, 6, 5, 3, 0, 2, 5, 8, 9, 3, 5, 9, 9, 4, 3, 6, 6,\n",
       "       8, 3, 4, 3, 3, 2, 3, 6, 5, 9, 2, 2, 2, 8, 4, 0, 7, 3, 0, 1, 7, 4,\n",
       "       5, 1, 7, 9, 0, 9, 6, 8, 3, 3, 8, 9, 7, 7, 1, 3, 2, 6, 9, 7, 4, 7,\n",
       "       1, 7, 8, 5, 1, 4, 5, 9, 4, 4, 9, 0, 2, 5, 1, 6, 5, 2, 7, 4, 3, 9,\n",
       "       7, 7, 7, 3, 1, 5, 0, 8, 6, 4, 4, 6, 0, 0, 1, 3, 4, 3, 4, 2, 9, 5,\n",
       "       1, 1, 0, 6, 8, 1, 3, 6, 2, 9, 7, 8, 7, 6, 3, 1, 3, 1, 5, 9, 5, 3,\n",
       "       7, 8, 7, 8, 5, 6, 3, 5, 9, 6, 7, 0, 5, 3, 1, 3, 1, 6, 3, 5, 8, 4,\n",
       "       8, 0, 4, 7, 9, 2, 5, 0, 2, 4, 1, 7, 7, 0, 4, 9, 0, 0, 3, 0, 2, 9,\n",
       "       1, 2, 6, 4, 6, 6, 4, 4, 3, 9, 4, 9, 4, 3, 7, 0, 2, 9, 7, 7, 2, 7,\n",
       "       6, 0, 5, 0, 5, 5, 3, 1, 9, 9, 1, 1, 3, 4, 9, 9, 0, 4, 7, 1, 8, 1,\n",
       "       8, 8, 2, 9, 9, 2, 5, 9, 3, 9, 0, 2, 1, 5, 2, 1, 6, 2, 1, 7, 1, 5,\n",
       "       4, 8, 9, 6, 5, 1, 4, 8, 8, 3, 9, 1, 8, 0, 4, 1, 2, 7, 0, 2, 0, 3,\n",
       "       2, 1, 1, 6, 9, 7, 6, 8, 7, 9, 8, 5, 8, 4, 9, 3, 6, 6, 0, 8, 0, 1,\n",
       "       3, 6, 1, 6, 0, 0, 4, 4, 0, 2, 0, 0, 4, 3, 0, 0, 7, 1, 4, 7, 4, 2,\n",
       "       0, 6, 5, 4, 5, 8, 7, 0, 3, 1, 9, 2, 4, 3, 6, 1, 7, 3, 1, 2, 4, 7,\n",
       "       9, 6, 0, 2, 8, 4, 7, 4, 6, 7, 1, 9, 6, 4, 8, 4, 1, 2, 7, 7, 1, 1,\n",
       "       5, 2, 1, 3, 8, 2, 4, 9, 3, 1, 9, 4, 0, 6, 3, 4, 2, 9, 2, 3, 2, 9,\n",
       "       8, 1, 7, 5, 0, 0, 7, 6, 9, 4, 3, 5, 0, 3, 0, 7, 2, 5, 3, 8, 9, 7,\n",
       "       2, 8, 8, 6, 3, 4, 8, 5, 8, 9, 4, 5, 6, 7, 6, 5, 9, 7, 7, 9, 7, 5,\n",
       "       2, 5, 4, 8, 3, 3, 5, 3, 7, 0, 8, 0, 9, 7, 5, 2, 2, 4, 8, 9, 6, 6,\n",
       "       1, 3, 1, 6, 4, 0, 0, 4, 5, 7, 6, 3, 1, 7, 8, 9, 3, 8, 4, 7, 5, 2,\n",
       "       3, 6, 2, 9, 9, 2, 7, 5, 2, 0, 1, 3, 0, 6, 6, 7, 1, 9, 8, 7, 3, 3,\n",
       "       1, 3, 7, 8, 7, 6, 3, 6, 7, 8, 4, 6, 4, 5, 5, 9, 9, 1, 5, 0, 1, 7,\n",
       "       1, 2, 0, 2, 6, 6, 0, 9, 8, 6, 1, 6, 1, 3, 8, 3, 6, 9, 2, 5, 3, 8,\n",
       "       5, 1, 0, 0, 7, 3, 0, 8, 9, 2, 2, 3, 0, 0, 7, 4, 8, 3, 8, 7, 3, 0,\n",
       "       1, 7, 2, 1, 8, 9, 2, 5, 3, 6, 9, 3, 9, 5, 2, 2, 3, 8, 1, 9, 1, 5,\n",
       "       9, 4, 4, 2, 7, 1, 4, 2, 7, 3, 4, 4, 2, 6, 0, 8, 2, 6])"
      ]
     },
     "execution_count": 166,
     "metadata": {},
     "output_type": "execute_result"
    }
   ],
   "source": [
    "%time my_clf.predict(X_test)"
   ]
  },
  {
   "cell_type": "code",
   "execution_count": 167,
   "metadata": {
    "scrolled": false
   },
   "outputs": [
    {
     "name": "stdout",
     "output_type": "stream",
     "text": [
      "CPU times: user 1min 27s, sys: 0 ns, total: 1min 27s\n",
      "Wall time: 1min 27s\n"
     ]
    },
    {
     "data": {
      "text/plain": [
       "array([[0., 0., 0., ..., 0., 0., 0.],\n",
       "       [0., 0., 0., ..., 0., 1., 0.],\n",
       "       [0., 1., 0., ..., 0., 0., 0.],\n",
       "       ...,\n",
       "       [0., 0., 0., ..., 0., 1., 0.],\n",
       "       [0., 0., 1., ..., 0., 0., 0.],\n",
       "       [0., 0., 0., ..., 0., 0., 0.]])"
      ]
     },
     "execution_count": 167,
     "metadata": {},
     "output_type": "execute_result"
    }
   ],
   "source": [
    "%time clf.predict_proba(X_test)"
   ]
  },
  {
   "cell_type": "code",
   "execution_count": 168,
   "metadata": {},
   "outputs": [
    {
     "name": "stdout",
     "output_type": "stream",
     "text": [
      "CPU times: user 5.89 s, sys: 452 ms, total: 6.34 s\n",
      "Wall time: 2.3 s\n"
     ]
    },
    {
     "data": {
      "text/plain": [
       "array([[0., 0., 0., ..., 0., 0., 0.],\n",
       "       [0., 0., 0., ..., 0., 1., 0.],\n",
       "       [0., 1., 0., ..., 0., 0., 0.],\n",
       "       ...,\n",
       "       [0., 0., 0., ..., 0., 1., 0.],\n",
       "       [0., 0., 1., ..., 0., 0., 0.],\n",
       "       [0., 0., 0., ..., 0., 0., 0.]])"
      ]
     },
     "execution_count": 168,
     "metadata": {},
     "output_type": "execute_result"
    }
   ],
   "source": [
    "%time my_clf.predict_proba(X_test)"
   ]
  },
  {
   "cell_type": "code",
   "execution_count": 169,
   "metadata": {},
   "outputs": [
    {
     "data": {
      "text/plain": [
       "0.9657142857142857"
      ]
     },
     "execution_count": 169,
     "metadata": {},
     "output_type": "execute_result"
    }
   ],
   "source": [
    "clf.score(X_test, y_test)"
   ]
  },
  {
   "cell_type": "code",
   "execution_count": 170,
   "metadata": {},
   "outputs": [
    {
     "data": {
      "text/plain": [
       "0.9657142857142857"
      ]
     },
     "execution_count": 170,
     "metadata": {},
     "output_type": "execute_result"
    }
   ],
   "source": [
    "my_clf.score(X_test, y_test)"
   ]
  },
  {
   "cell_type": "markdown",
   "metadata": {},
   "source": [
    "Задание 4"
   ]
  },
  {
   "cell_type": "code",
   "execution_count": 171,
   "metadata": {},
   "outputs": [],
   "source": [
    "clf = KNeighborsClassifier(n_neighbors=2, algorithm='kd_tree')\n",
    "my_clf = MyKNeighborsClassifier(n_neighbors=2, algorithm='kd_tree')"
   ]
  },
  {
   "cell_type": "code",
   "execution_count": 172,
   "metadata": {},
   "outputs": [],
   "source": [
    "X_train, X_test, y_train, y_test = train_test_split(mnist.data, mnist.target, test_size=0.01, stratify=mnist.target)"
   ]
  },
  {
   "cell_type": "code",
   "execution_count": 173,
   "metadata": {},
   "outputs": [
    {
     "name": "stdout",
     "output_type": "stream",
     "text": [
      "CPU times: user 30.9 s, sys: 196 ms, total: 31.1 s\n",
      "Wall time: 31.1 s\n"
     ]
    },
    {
     "data": {
      "text/plain": [
       "KNeighborsClassifier(algorithm='kd_tree', leaf_size=30, metric='minkowski',\n",
       "           metric_params=None, n_jobs=1, n_neighbors=2, p=2,\n",
       "           weights='uniform')"
      ]
     },
     "execution_count": 173,
     "metadata": {},
     "output_type": "execute_result"
    }
   ],
   "source": [
    "%time clf.fit(X_train, y_train)"
   ]
  },
  {
   "cell_type": "code",
   "execution_count": 174,
   "metadata": {},
   "outputs": [
    {
     "name": "stdout",
     "output_type": "stream",
     "text": [
      "CPU times: user 30.5 s, sys: 200 ms, total: 30.7 s\n",
      "Wall time: 30 s\n"
     ]
    }
   ],
   "source": [
    "%time my_clf.fit(X_train, y_train)"
   ]
  },
  {
   "cell_type": "code",
   "execution_count": 175,
   "metadata": {},
   "outputs": [
    {
     "name": "stdout",
     "output_type": "stream",
     "text": [
      "CPU times: user 1min 27s, sys: 3.85 ms, total: 1min 27s\n",
      "Wall time: 1min 27s\n"
     ]
    },
    {
     "data": {
      "text/plain": [
       "array([0., 7., 6., 6., 2., 0., 6., 5., 8., 3., 8., 4., 1., 4., 7., 1., 3.,\n",
       "       1., 6., 2., 5., 7., 6., 2., 2., 8., 6., 6., 9., 9., 6., 2., 3., 4.,\n",
       "       0., 0., 8., 9., 8., 2., 7., 3., 6., 1., 7., 6., 0., 2., 0., 8., 2.,\n",
       "       1., 5., 4., 2., 8., 0., 5., 0., 1., 8., 1., 5., 6., 6., 9., 8., 6.,\n",
       "       9., 9., 0., 3., 3., 9., 7., 8., 2., 4., 2., 7., 4., 0., 0., 0., 2.,\n",
       "       5., 1., 9., 7., 6., 7., 1., 7., 9., 5., 6., 0., 3., 5., 0., 9., 8.,\n",
       "       3., 9., 1., 3., 9., 7., 8., 1., 9., 2., 4., 9., 7., 4., 3., 4., 3.,\n",
       "       8., 2., 8., 7., 4., 3., 5., 0., 4., 5., 0., 7., 4., 7., 1., 7., 0.,\n",
       "       6., 5., 7., 0., 8., 4., 2., 6., 5., 3., 1., 3., 3., 1., 7., 7., 7.,\n",
       "       4., 0., 5., 3., 4., 3., 2., 1., 1., 7., 6., 3., 4., 9., 9., 0., 7.,\n",
       "       6., 5., 9., 5., 9., 8., 0., 8., 7., 6., 1., 4., 4., 7., 9., 0., 7.,\n",
       "       2., 9., 3., 5., 5., 2., 2., 2., 4., 7., 9., 1., 1., 6., 4., 6., 7.,\n",
       "       8., 6., 1., 9., 6., 1., 9., 3., 4., 4., 1., 5., 8., 5., 9., 2., 1.,\n",
       "       6., 7., 3., 5., 9., 1., 0., 0., 6., 7., 9., 0., 7., 6., 8., 0., 3.,\n",
       "       7., 0., 0., 3., 2., 7., 3., 2., 3., 4., 7., 2., 4., 0., 1., 6., 2.,\n",
       "       8., 2., 2., 2., 8., 4., 3., 9., 1., 9., 2., 8., 2., 6., 2., 9., 0.,\n",
       "       6., 4., 8., 9., 5., 9., 3., 1., 9., 0., 3., 5., 1., 1., 7., 5., 3.,\n",
       "       9., 5., 2., 2., 7., 7., 9., 6., 0., 3., 7., 9., 5., 1., 5., 3., 0.,\n",
       "       0., 4., 6., 1., 6., 8., 8., 1., 1., 0., 5., 2., 0., 7., 1., 8., 3.,\n",
       "       5., 9., 3., 9., 5., 6., 3., 2., 4., 5., 1., 3., 2., 1., 7., 6., 1.,\n",
       "       3., 1., 4., 1., 7., 6., 2., 0., 7., 7., 0., 3., 3., 8., 7., 1., 1.,\n",
       "       3., 5., 9., 2., 3., 6., 9., 7., 5., 3., 5., 3., 7., 4., 5., 4., 8.,\n",
       "       8., 2., 6., 9., 9., 2., 0., 2., 9., 2., 8., 4., 4., 4., 9., 1., 8.,\n",
       "       6., 3., 4., 3., 1., 0., 1., 7., 2., 9., 0., 7., 1., 6., 3., 9., 3.,\n",
       "       7., 4., 8., 3., 5., 0., 4., 4., 0., 4., 4., 2., 6., 0., 6., 9., 8.,\n",
       "       2., 1., 9., 6., 3., 6., 1., 0., 3., 2., 5., 1., 0., 2., 4., 1., 3.,\n",
       "       0., 9., 3., 0., 0., 6., 5., 3., 8., 2., 6., 9., 9., 1., 3., 2., 1.,\n",
       "       1., 0., 1., 2., 1., 9., 6., 5., 9., 0., 5., 4., 0., 1., 8., 2., 5.,\n",
       "       8., 6., 7., 4., 4., 1., 0., 8., 7., 8., 5., 2., 9., 2., 1., 3., 3.,\n",
       "       7., 5., 3., 2., 3., 7., 7., 4., 4., 5., 2., 2., 8., 6., 7., 5., 5.,\n",
       "       6., 4., 3., 9., 7., 5., 4., 8., 4., 6., 1., 5., 8., 8., 3., 4., 6.,\n",
       "       5., 0., 1., 1., 1., 8., 0., 0., 6., 7., 8., 9., 6., 9., 3., 3., 6.,\n",
       "       6., 7., 6., 7., 0., 8., 0., 1., 4., 8., 1., 2., 7., 9., 7., 6., 3.,\n",
       "       2., 7., 8., 0., 9., 1., 1., 4., 7., 5., 5., 7., 1., 8., 6., 5., 4.,\n",
       "       6., 4., 2., 3., 0., 8., 1., 1., 7., 2., 1., 0., 4., 5., 8., 0., 1.,\n",
       "       3., 4., 0., 4., 3., 9., 7., 3., 2., 3., 3., 1., 4., 9., 9., 6., 4.,\n",
       "       1., 8., 0., 4., 6., 6., 0., 8., 3., 8., 5., 4., 4., 1., 5., 6., 2.,\n",
       "       1., 4., 3., 5., 5., 4., 3., 1., 6., 7., 7., 8., 1., 8., 8., 1., 1.,\n",
       "       9., 4., 8., 4., 2., 6., 6., 8., 7., 8., 2., 5., 2., 4., 1., 1., 5.,\n",
       "       1., 2., 6., 7., 7., 1., 7., 0., 5., 9., 5., 7., 7., 2., 4., 5., 1.,\n",
       "       7., 2., 0., 6., 4., 5., 4., 0., 9., 7., 6., 9., 3., 9., 2., 9., 8.,\n",
       "       6., 3., 0.])"
      ]
     },
     "execution_count": 175,
     "metadata": {},
     "output_type": "execute_result"
    }
   ],
   "source": [
    "%time clf.predict(X_test)"
   ]
  },
  {
   "cell_type": "code",
   "execution_count": 176,
   "metadata": {},
   "outputs": [
    {
     "name": "stdout",
     "output_type": "stream",
     "text": [
      "CPU times: user 1min 12s, sys: 3.97 ms, total: 1min 12s\n",
      "Wall time: 1min 12s\n"
     ]
    },
    {
     "data": {
      "text/plain": [
       "array([0, 7, 6, 6, 2, 0, 6, 5, 8, 3, 8, 4, 1, 4, 7, 1, 3, 1, 6, 2, 5, 7,\n",
       "       6, 2, 2, 8, 6, 6, 9, 9, 6, 2, 3, 4, 0, 0, 8, 9, 8, 2, 7, 3, 6, 1,\n",
       "       7, 6, 0, 2, 0, 8, 2, 1, 5, 4, 2, 8, 0, 5, 0, 1, 8, 1, 5, 6, 6, 9,\n",
       "       8, 6, 9, 9, 0, 3, 3, 9, 7, 8, 2, 4, 2, 7, 4, 0, 0, 0, 2, 5, 1, 9,\n",
       "       7, 6, 7, 1, 7, 9, 5, 6, 0, 3, 5, 0, 9, 8, 3, 9, 1, 3, 9, 7, 8, 1,\n",
       "       9, 2, 4, 9, 7, 4, 3, 4, 3, 8, 2, 8, 7, 4, 3, 5, 0, 4, 5, 0, 7, 4,\n",
       "       7, 1, 7, 0, 6, 5, 7, 0, 8, 4, 2, 6, 5, 3, 1, 3, 3, 1, 7, 7, 7, 4,\n",
       "       0, 5, 3, 4, 3, 2, 1, 1, 7, 6, 3, 4, 9, 9, 0, 7, 6, 5, 9, 5, 9, 8,\n",
       "       0, 8, 7, 6, 1, 4, 4, 7, 9, 0, 7, 2, 9, 3, 5, 5, 2, 2, 2, 4, 7, 9,\n",
       "       1, 1, 6, 4, 6, 7, 8, 6, 1, 9, 6, 1, 9, 3, 4, 4, 1, 5, 8, 5, 9, 2,\n",
       "       1, 6, 7, 3, 5, 9, 1, 0, 0, 6, 7, 9, 0, 7, 6, 8, 0, 3, 7, 0, 0, 3,\n",
       "       2, 7, 3, 2, 3, 4, 7, 2, 4, 0, 1, 6, 2, 8, 2, 2, 2, 8, 4, 3, 9, 1,\n",
       "       9, 2, 8, 2, 6, 2, 9, 0, 6, 4, 8, 9, 5, 9, 3, 1, 9, 0, 3, 5, 1, 1,\n",
       "       7, 5, 3, 9, 5, 2, 2, 7, 7, 9, 6, 0, 3, 7, 9, 5, 1, 5, 3, 0, 0, 4,\n",
       "       6, 1, 6, 8, 8, 1, 1, 0, 5, 2, 0, 7, 1, 8, 3, 5, 9, 3, 9, 5, 6, 3,\n",
       "       2, 4, 5, 1, 3, 2, 1, 7, 6, 1, 3, 1, 4, 1, 7, 6, 2, 0, 7, 7, 0, 3,\n",
       "       3, 8, 7, 1, 1, 3, 5, 9, 2, 3, 6, 9, 7, 5, 3, 5, 3, 7, 4, 5, 4, 8,\n",
       "       8, 2, 6, 9, 9, 2, 0, 2, 9, 2, 8, 4, 4, 4, 9, 1, 8, 6, 3, 4, 3, 1,\n",
       "       0, 1, 7, 2, 9, 0, 7, 1, 6, 3, 9, 3, 7, 4, 8, 3, 5, 0, 4, 4, 0, 4,\n",
       "       4, 2, 6, 0, 6, 9, 8, 2, 1, 9, 6, 3, 6, 1, 0, 3, 2, 5, 1, 0, 2, 4,\n",
       "       1, 3, 0, 9, 3, 0, 0, 6, 5, 3, 8, 2, 6, 9, 9, 1, 3, 2, 1, 1, 0, 1,\n",
       "       2, 1, 9, 6, 5, 9, 0, 5, 4, 0, 1, 8, 2, 5, 8, 6, 7, 4, 4, 1, 0, 8,\n",
       "       7, 8, 5, 2, 9, 2, 1, 3, 3, 7, 5, 3, 2, 3, 7, 7, 4, 4, 5, 2, 2, 8,\n",
       "       6, 7, 5, 5, 6, 4, 3, 9, 7, 5, 4, 8, 4, 6, 1, 5, 8, 8, 3, 4, 6, 5,\n",
       "       0, 1, 1, 1, 8, 0, 0, 6, 7, 8, 9, 6, 9, 3, 3, 6, 6, 7, 6, 7, 0, 8,\n",
       "       0, 1, 4, 8, 1, 2, 7, 9, 7, 6, 3, 2, 7, 8, 0, 9, 1, 1, 4, 7, 5, 5,\n",
       "       7, 1, 8, 6, 5, 4, 6, 4, 2, 3, 0, 8, 1, 1, 7, 2, 1, 0, 4, 5, 8, 0,\n",
       "       1, 3, 4, 0, 4, 3, 9, 7, 3, 2, 3, 3, 1, 4, 9, 9, 6, 4, 1, 8, 0, 4,\n",
       "       6, 6, 0, 8, 3, 8, 5, 4, 4, 1, 5, 6, 2, 1, 4, 3, 5, 5, 4, 3, 1, 6,\n",
       "       7, 7, 8, 1, 8, 8, 1, 1, 9, 4, 8, 4, 2, 6, 6, 8, 7, 8, 2, 5, 2, 4,\n",
       "       1, 1, 5, 1, 2, 6, 7, 7, 1, 7, 0, 5, 9, 5, 7, 7, 2, 4, 5, 1, 7, 2,\n",
       "       0, 6, 4, 5, 4, 0, 9, 7, 6, 9, 3, 9, 2, 9, 8, 6, 3, 0])"
      ]
     },
     "execution_count": 176,
     "metadata": {},
     "output_type": "execute_result"
    }
   ],
   "source": [
    "%time my_clf.predict(X_test)"
   ]
  },
  {
   "cell_type": "code",
   "execution_count": 177,
   "metadata": {},
   "outputs": [
    {
     "name": "stdout",
     "output_type": "stream",
     "text": [
      "CPU times: user 1min 26s, sys: 3.9 ms, total: 1min 26s\n",
      "Wall time: 1min 26s\n"
     ]
    },
    {
     "data": {
      "text/plain": [
       "array([[1., 0., 0., ..., 0., 0., 0.],\n",
       "       [0., 0., 0., ..., 1., 0., 0.],\n",
       "       [0., 0., 0., ..., 0., 0., 0.],\n",
       "       ...,\n",
       "       [0., 0., 0., ..., 0., 0., 0.],\n",
       "       [0., 0., 0., ..., 0., 0., 0.],\n",
       "       [1., 0., 0., ..., 0., 0., 0.]])"
      ]
     },
     "execution_count": 177,
     "metadata": {},
     "output_type": "execute_result"
    }
   ],
   "source": [
    "%time clf.predict_proba(X_test)"
   ]
  },
  {
   "cell_type": "code",
   "execution_count": 178,
   "metadata": {},
   "outputs": [
    {
     "name": "stdout",
     "output_type": "stream",
     "text": [
      "CPU times: user 1min 12s, sys: 0 ns, total: 1min 12s\n",
      "Wall time: 1min 12s\n"
     ]
    },
    {
     "data": {
      "text/plain": [
       "array([[1., 0., 0., ..., 0., 0., 0.],\n",
       "       [0., 0., 0., ..., 1., 0., 0.],\n",
       "       [0., 0., 0., ..., 0., 0., 0.],\n",
       "       ...,\n",
       "       [0., 0., 0., ..., 0., 0., 0.],\n",
       "       [0., 0., 0., ..., 0., 0., 0.],\n",
       "       [1., 0., 0., ..., 0., 0., 0.]])"
      ]
     },
     "execution_count": 178,
     "metadata": {},
     "output_type": "execute_result"
    }
   ],
   "source": [
    "%time my_clf.predict_proba(X_test)"
   ]
  },
  {
   "cell_type": "code",
   "execution_count": 179,
   "metadata": {},
   "outputs": [
    {
     "data": {
      "text/plain": [
       "0.9785714285714285"
      ]
     },
     "execution_count": 179,
     "metadata": {},
     "output_type": "execute_result"
    }
   ],
   "source": [
    "clf.score(X_test, y_test)"
   ]
  },
  {
   "cell_type": "code",
   "execution_count": 180,
   "metadata": {},
   "outputs": [
    {
     "data": {
      "text/plain": [
       "0.9785714285714285"
      ]
     },
     "execution_count": 180,
     "metadata": {},
     "output_type": "execute_result"
    }
   ],
   "source": [
    "my_clf.score(X_test, y_test)"
   ]
  },
  {
   "cell_type": "markdown",
   "metadata": {},
   "source": [
    "Задание 5"
   ]
  },
  {
   "cell_type": "code",
   "execution_count": 181,
   "metadata": {},
   "outputs": [],
   "source": [
    "# seaborn - библиотека для визуализации данных, основанная на matplotlib\n",
    "# matplotlib - библиотека для визуализации данных\n",
    "# train_test_split - функция из библиотеки sklearn разбивает данные на обучающую и тестовую выборки\n",
    "# Pipelin%load_ext e (from sklearn.pipeline import Pipeline) - конструкция для последовательного преобразования данных\n",
    "# StandardScaler (from sklearn.preprocessing import StandardScaler) - функция, приводящая распределение к нормальному виду: среднее значение = 0, стандартное отклонение = 1\n",
    "# ClassifierMixin - стандартный класс для классификатора в sklearn; имеет метод score - среднее значение точности на выборке\n",
    "# NeighborsBase - базовый класс в sklearn для KNN\n",
    "# KNeighborsMixin - базовый класс в sklearn для поиска ближайших соседей\n",
    "# SupervisedIntegerMixin - базовый класс в sklearn, содержащий метод fit"
   ]
  }
 ],
 "metadata": {
  "kernelspec": {
   "display_name": "Python 3",
   "language": "python",
   "name": "python3"
  },
  "language_info": {
   "codemirror_mode": {
    "name": "ipython",
    "version": 3
   },
   "file_extension": ".py",
   "mimetype": "text/x-python",
   "name": "python",
   "nbconvert_exporter": "python",
   "pygments_lexer": "ipython3",
   "version": "3.6.5"
  }
 },
 "nbformat": 4,
 "nbformat_minor": 2
}
